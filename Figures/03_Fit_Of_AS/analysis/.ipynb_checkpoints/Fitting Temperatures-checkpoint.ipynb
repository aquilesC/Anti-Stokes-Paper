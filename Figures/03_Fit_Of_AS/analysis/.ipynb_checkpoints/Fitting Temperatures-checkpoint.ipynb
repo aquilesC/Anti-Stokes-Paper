{
 "cells": [
  {
   "cell_type": "code",
   "execution_count": 1,
   "metadata": {
    "collapsed": true
   },
   "outputs": [],
   "source": [
    "import numpy as np\n",
    "import matplotlib.pyplot as plt\n",
    "from scipy.optimize import minimize\n",
    "T1 = np.loadtxt('T_01.txt')\n",
    "T2 = np.loadtxt('T_02.txt')\n",
    "T3 = np.loadtxt('T_03.txt')"
   ]
  },
  {
   "cell_type": "code",
   "execution_count": 2,
   "metadata": {
    "collapsed": false
   },
   "outputs": [],
   "source": [
    "plt.plot(T1[:,0],T1[:,1], 'o')\n",
    "plt.plot(T2[:,0],T2[:,1], 'o')\n",
    "plt.plot(T3[:,0],T3[:,1], 'o')\n",
    "plt.show()"
   ]
  },
  {
   "cell_type": "code",
   "execution_count": 3,
   "metadata": {
    "collapsed": true
   },
   "outputs": [],
   "source": [
    "def fitting_temperature(C):\n",
    "    sq_1 = np.sqrt(np.sum((T1[:,1]-C[0]*T1[:,0]-C[1])**2))\n",
    "    sq_2 = np.sqrt(np.sum((T2[:,1]-C[0]*T2[:,0]-C[2])**2))\n",
    "    sq_3 = np.sqrt(np.sum((T3[:,1]-C[0]*T3[:,0]-C[3])**2))\n",
    "    return sq_1 + sq_2 + sq_3"
   ]
  },
  {
   "cell_type": "code",
   "execution_count": 17,
   "metadata": {
    "collapsed": false
   },
   "outputs": [
    {
     "name": "stdout",
     "output_type": "stream",
     "text": [
      "Optimization terminated successfully.\n",
      "         Current function value: 23.898090\n",
      "         Iterations: 14\n",
      "         Function evaluations: 132\n",
      "         Gradient evaluations: 22\n"
     ]
    }
   ],
   "source": [
    "a = minimize(fitting_temperature, [1, 300, 320, 340],options={'disp': True})"
   ]
  },
  {
   "cell_type": "code",
   "execution_count": 19,
   "metadata": {
    "collapsed": false
   },
   "outputs": [
    {
     "data": {
      "text/plain": [
       "      fun: 23.898090235427755\n",
       " hess_inv: array([[  3.67221666e-04,  -6.79907386e-02,  -7.02728452e-02,\n",
       "         -6.64038552e-02],\n",
       "       [ -6.79907386e-02,   1.41352624e+01,   1.30917802e+01,\n",
       "          1.22660801e+01],\n",
       "       [ -7.02728452e-02,   1.30917802e+01,   1.41477788e+01,\n",
       "          1.26518516e+01],\n",
       "       [ -6.64038552e-02,   1.22660801e+01,   1.26518516e+01,\n",
       "          1.31202812e+01]])\n",
       "      jac: array([  3.71694565e-04,  -1.19209290e-06,   3.81469727e-06,\n",
       "        -4.76837158e-07])\n",
       "  message: 'Optimization terminated successfully.'\n",
       "     nfev: 132\n",
       "      nit: 14\n",
       "     njev: 22\n",
       "   status: 0\n",
       "  success: True\n",
       "        x: array([   0.72093876,  296.47544289,  314.95794824,  338.77294416])"
      ]
     },
     "execution_count": 19,
     "metadata": {},
     "output_type": "execute_result"
    }
   ],
   "source": [
    "a"
   ]
  },
  {
   "cell_type": "code",
   "execution_count": 20,
   "metadata": {
    "collapsed": false
   },
   "outputs": [
    {
     "data": {
      "text/plain": [
       "array([   0.72093876,  296.47544289,  314.95794824,  338.77294416])"
      ]
     },
     "execution_count": 20,
     "metadata": {},
     "output_type": "execute_result"
    }
   ],
   "source": [
    "a.x"
   ]
  },
  {
   "cell_type": "code",
   "execution_count": 21,
   "metadata": {
    "collapsed": false
   },
   "outputs": [
    {
     "name": "stdout",
     "output_type": "stream",
     "text": [
      "0.0191630286126\n",
      "3.75968913423\n",
      "3.75968913423\n",
      "3.62219286692\n"
     ]
    }
   ],
   "source": [
    "eSlope =np.sqrt(a.hess_inv[0,0])\n",
    "print(eSlope)\n",
    "eT1 = np.sqrt(a.hess_inv[1,1])\n",
    "print(eT1)\n",
    "eT2 = np.sqrt(a.hess_inv[2,2])\n",
    "print(eT1)\n",
    "eT3 = np.sqrt(a.hess_inv[3,3])\n",
    "print(eT3)"
   ]
  },
  {
   "cell_type": "code",
   "execution_count": 8,
   "metadata": {
    "collapsed": false
   },
   "outputs": [],
   "source": [
    "plt.plot(T1[:,0], a.x[0]*T1[:,0]+a.x[1])\n",
    "plt.plot(T1[:,0], T1[:,1],'o')\n",
    "plt.plot(T2[:,0], a.x[0]*T2[:,0]+a.x[2])\n",
    "plt.plot(T2[:,0], T2[:,1],'o')\n",
    "plt.plot(T3[:,0], a.x[0]*T3[:,0]+a.x[3])\n",
    "plt.plot(T3[:,0], T3[:,1],'o')\n",
    "plt.show()"
   ]
  },
  {
   "cell_type": "code",
   "execution_count": null,
   "metadata": {
    "collapsed": true
   },
   "outputs": [],
   "source": []
  },
  {
   "cell_type": "code",
   "execution_count": null,
   "metadata": {
    "collapsed": true
   },
   "outputs": [],
   "source": []
  },
  {
   "cell_type": "code",
   "execution_count": null,
   "metadata": {
    "collapsed": true
   },
   "outputs": [],
   "source": []
  }
 ],
 "metadata": {
  "kernelspec": {
   "display_name": "Python 3",
   "language": "python",
   "name": "python3"
  },
  "language_info": {
   "codemirror_mode": {
    "name": "ipython",
    "version": 3
   },
   "file_extension": ".py",
   "mimetype": "text/x-python",
   "name": "python",
   "nbconvert_exporter": "python",
   "pygments_lexer": "ipython3",
   "version": "3.5.3"
  }
 },
 "nbformat": 4,
 "nbformat_minor": 2
}
