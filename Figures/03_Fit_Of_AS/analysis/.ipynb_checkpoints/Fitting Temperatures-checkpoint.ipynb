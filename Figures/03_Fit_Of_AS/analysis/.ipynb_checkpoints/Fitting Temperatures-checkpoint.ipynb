{
 "cells": [
  {
   "cell_type": "code",
   "execution_count": 1,
   "metadata": {
    "collapsed": true
   },
   "outputs": [],
   "source": [
    "import numpy as np\n",
    "import matplotlib.pyplot as plt\n",
    "from scipy.optimize import minimize\n",
    "T1 = np.loadtxt('T_01.txt')\n",
    "T2 = np.loadtxt('T_02.txt')\n",
    "T3 = np.loadtxt('T_03.txt')"
   ]
  },
  {
   "cell_type": "code",
   "execution_count": null,
   "metadata": {
    "collapsed": false
   },
   "outputs": [],
   "source": [
    "plt.plot(T1[:,0],T1[:,1], 'o')\n",
    "plt.plot(T2[:,0],T2[:,1], 'o')\n",
    "plt.plot(T3[:,0],T3[:,1], 'o')\n",
    "plt.show()"
   ]
  },
  {
   "cell_type": "code",
   "execution_count": 25,
   "metadata": {
    "collapsed": true
   },
   "outputs": [],
   "source": [
    "def fitting_temperature(C):\n",
    "    sq_1 = np.sqrt(np.sum((T1[:,1]-C[0]*T1[:,0]-C[1])**2))\n",
    "    sq_2 = np.sqrt(np.sum((T2[:,1]-C[0]*T2[:,0]-C[2])**2))\n",
    "    sq_3 = np.sqrt(np.sum((T3[:,1]-C[0]*T3[:,0]-C[3])**2))\n",
    "    return sq_1 + sq_2 + sq_3"
   ]
  },
  {
   "cell_type": "code",
   "execution_count": 23,
   "metadata": {
    "collapsed": false
   },
   "outputs": [],
   "source": [
    "a = minimize(fitting_temperature, [1, 300, 320, 340])"
   ]
  },
  {
   "cell_type": "code",
   "execution_count": 21,
   "metadata": {
    "collapsed": false
   },
   "outputs": [
    {
     "data": {
      "text/plain": [
       "array([   0.71225756,  298.08501504,  316.62098401,  340.34468964])"
      ]
     },
     "execution_count": 21,
     "metadata": {},
     "output_type": "execute_result"
    }
   ],
   "source": [
    "a.x"
   ]
  },
  {
   "cell_type": "code",
   "execution_count": 26,
   "metadata": {
    "collapsed": false
   },
   "outputs": [
    {
     "data": {
      "image/png": "[encoded data removed]",
      "text/plain": [
       "<matplotlib.figure.Figure at 0x7f3ea20b46a0>"
      ]
     },
     "metadata": {},
     "output_type": "display_data"
    }
   ],
   "source": [
    "plt.plot(T1[:,0], a.x[0]*T1[:,0]+a.x[1])\n",
    "plt.plot(T1[:,0], T1[:,1],'o')\n",
    "plt.plot(T2[:,0], a.x[0]*T2[:,0]+a.x[2])\n",
    "plt.plot(T2[:,0], T2[:,1],'o')\n",
    "plt.plot(T3[:,0], a.x[0]*T3[:,0]+a.x[3])\n",
    "plt.plot(T3[:,0], T3[:,1],'o')\n",
    "plt.show()"
   ]
  },
  {
   "cell_type": "code",
   "execution_count": null,
   "metadata": {
    "collapsed": true
   },
   "outputs": [],
   "source": []
  }
 ],
 "metadata": {
  "kernelspec": {
   "display_name": "Python 3",
   "language": "python",
   "name": "python3"
  },
  "language_info": {
   "codemirror_mode": {
    "name": "ipython",
    "version": 3
   },
   "file_extension": ".py",
   "mimetype": "text/x-python",
   "name": "python",
   "nbconvert_exporter": "python",
   "pygments_lexer": "ipython3",
   "version": "3.5.3"
  }
 },
 "nbformat": 4,
 "nbformat_minor": 2
}
